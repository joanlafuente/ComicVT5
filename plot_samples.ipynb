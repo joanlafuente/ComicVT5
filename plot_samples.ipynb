{
 "cells": [
  {
   "cell_type": "code",
   "execution_count": 1,
   "metadata": {},
   "outputs": [
    {
     "name": "stderr",
     "output_type": "stream",
     "text": [
      "/home/jlafuente/anaconda3/envs/comicsgen/lib/python3.9/site-packages/tqdm/auto.py:21: TqdmWarning: IProgress not found. Please update jupyter and ipywidgets. See https://ipywidgets.readthedocs.io/en/stable/user_install.html\n",
      "  from .autonotebook import tqdm as notebook_tqdm\n"
     ]
    }
   ],
   "source": [
    "#import libraries\n",
    "import argparse\n",
    "import importlib\n",
    "import torch\n",
    "import cv2\n",
    "import os\n",
    "import pandas as pd\n",
    "import h5py as h5\n",
    "import evaluate\n",
    "\n",
    "from matplotlib import pyplot as plt\n",
    "\n",
    "from src.common.configuration import get_dataset_configuration, get_model_configuration\n",
    "from src.datasets.comics_dialogue_generation import ComicsDialogueGenerationDataset\n",
    "# from src.datasets.comics_images_Sim_CLR_text import ComicsImageTextDataset, create_test_dataset\n",
    "from src.datasets.text_cloze_image_text_vlt5_simCLR import TextClozeImageTextVLT5Dataset, create_test_dataset\n",
    "from src.models.dialogue_generation_vlt5 import DialogueGenerationVLT5Model\n",
    "from src.tokenizers.vlt5_tokenizers import VLT5TokenizerFast\n",
    "from transformers import AutoTokenizer"
   ]
  },
  {
   "cell_type": "code",
   "execution_count": 2,
   "metadata": {},
   "outputs": [],
   "source": [
    "def parse_arguments():\n",
    "    parser = argparse.ArgumentParser(description='Plotting script')\n",
    "\n",
    "    parser.add_argument('--model', type=str, default=\"text_cloze_image_text_vlt5\",\n",
    "                        help='Model to run')\n",
    "    parser.add_argument('--load_cloze_checkpoint', type=str, default=\"runs/TextClozeImageTextVLT5Model_text_cloze_image_text_vlt5_simCLR_2023-12-13_11:22:31/models/epoch_3.pt\", # Textract + blip2 hard\n",
    "                        help='Path to text cloze model checkpoint')\n",
    "    parser.add_argument('--dataset_config', type=str, default=\"text_cloze_image_text_blip2_hard_textract_vlt5\",\n",
    "                        help='Dataset config to use')\n",
    "    parser.add_argument('--dataset_dir', type=str, default=\"/data/data/datasets/COMICS\",\n",
    "                        help='Dataset directory path')\n",
    "    parser.add_argument('--output_dir', type=str, default=\"plots_textract/\",\n",
    "                        help='Output directory path')\n",
    "    parser.add_argument('--sample_id', type=int, default=275,\n",
    "                        help='Sample id to plot')\n",
    "    parser.add_argument('--seed', type=int, default=4,\n",
    "                        help='Random seed')\n",
    "\n",
    "    return parser.parse_args(\"\")"
   ]
  },
  {
   "cell_type": "code",
   "execution_count": 3,
   "metadata": {},
   "outputs": [],
   "source": [
    "def load_checkpoint(checkpoint_path, model):\n",
    "    checkpoint = torch.load(checkpoint_path, map_location=torch.device(\"cpu\"))\n",
    "    model.load_checkpoint(checkpoint[\"model_state_dict\"])\n",
    "    model.eval()\n",
    "    return model"
   ]
  },
  {
   "cell_type": "markdown",
   "metadata": {},
   "source": [
    "# Loading the model and dataset"
   ]
  },
  {
   "cell_type": "code",
   "execution_count": 4,
   "metadata": {},
   "outputs": [],
   "source": [
    "args = parse_arguments()\n",
    "torch.manual_seed(args.seed)\n",
    "\n",
    "device = torch.device(\"cuda\") if torch.cuda.is_available() else torch.device(\"cpu\")\n"
   ]
  },
  {
   "cell_type": "markdown",
   "metadata": {},
   "source": [
    "### Model"
   ]
  },
  {
   "cell_type": "code",
   "execution_count": 5,
   "metadata": {},
   "outputs": [],
   "source": [
    "model_text_cloze_config = get_model_configuration(args.model)"
   ]
  },
  {
   "cell_type": "code",
   "execution_count": null,
   "metadata": {},
   "outputs": [],
   "source": [
    "ModelClass = getattr(importlib.import_module(\n",
    "    f\"src.models.{args.model}\"), model_text_cloze_config.classname)\n",
    "model_text_cloze = ModelClass(model_text_cloze_config, device).to(device)\n",
    "load_checkpoint(args.load_cloze_checkpoint, model_text_cloze)"
   ]
  },
  {
   "cell_type": "markdown",
   "metadata": {},
   "source": [
    "### Loading the dataset"
   ]
  },
  {
   "cell_type": "code",
   "execution_count": 7,
   "metadata": {},
   "outputs": [
    {
     "name": "stderr",
     "output_type": "stream",
     "text": [
      "The tokenizer class you load from this checkpoint is not the same type as the class this function is called from. It may result in unexpected tokenization. \n",
      "The tokenizer class you load from this checkpoint is 'T5Tokenizer'. \n",
      "The class this function is called from is 'VLT5TokenizerFast'.\n",
      "/home/jlafuente/anaconda3/envs/comicsgen/lib/python3.9/site-packages/transformers/models/t5/tokenization_t5_fast.py:158: FutureWarning: This tokenizer was incorrectly instantiated with a model max length of 512 which will be corrected in Transformers v5.\n",
      "For now, this behavior is kept to avoid breaking backwards compatibility when padding/encoding with `truncation is True`.\n",
      "- Be aware that you SHOULD NOT rely on t5-base automatically truncating your input to 512 when padding/encoding.\n",
      "- If you want to encode/pad to sequences longer than 512 you can either instantiate this tokenizer with `model_max_length` or pass `max_length` when encoding/padding.\n",
      "- To avoid this warning, please instantiate this tokenizer with `model_max_length` set to your preferred value.\n",
      "  warnings.warn(\n"
     ]
    }
   ],
   "source": [
    "tokenizer = VLT5TokenizerFast.from_pretrained(\n",
    "                model_text_cloze_config.backbone,\n",
    "                max_length=model_text_cloze_config.max_text_length,\n",
    "                do_lower_case=model_text_cloze_config.do_lower_case,\n",
    "            )\n",
    "dataset_config = get_dataset_configuration(args.dataset_config)\n",
    "dataset_config[\"test\"] = True\n",
    "df, dataset = create_test_dataset(args.dataset_dir, device, dataset_config, tokenizer)"
   ]
  },
  {
   "cell_type": "code",
   "execution_count": 24,
   "metadata": {},
   "outputs": [],
   "source": [
    "dataloader = torch.utils.data.DataLoader(dataset, batch_size=1, shuffle=False, num_workers=0)"
   ]
  },
  {
   "cell_type": "markdown",
   "metadata": {},
   "source": [
    "### Checking some predictions"
   ]
  },
  {
   "cell_type": "code",
   "execution_count": 25,
   "metadata": {},
   "outputs": [
    {
     "name": "stdout",
     "output_type": "stream",
     "text": [
      "tensor([204], device='cuda:1')\n",
      "Prediction: 2\n",
      "tensor([3], device='cuda:1')\n",
      "Prediction: 0\n",
      "tensor([204], device='cuda:1')\n",
      "Prediction: 2\n",
      "tensor([204], device='cuda:1')\n",
      "Prediction: 2\n",
      "tensor([209], device='cuda:1')\n",
      "Prediction: 1\n",
      "tensor([204], device='cuda:1')\n",
      "Prediction: 2\n",
      "tensor([209], device='cuda:1')\n",
      "Prediction: 1\n",
      "tensor([204], device='cuda:1')\n",
      "Prediction: 2\n",
      "tensor([209], device='cuda:1')\n",
      "Prediction: 1\n",
      "tensor([204], device='cuda:1')\n",
      "Prediction: 2\n",
      "tensor([3], device='cuda:1')\n",
      "Prediction: 0\n"
     ]
    }
   ],
   "source": [
    "model_text_cloze.eval()\n",
    "with torch.no_grad():\n",
    "    for i, sample_data in enumerate(dataloader):\n",
    "        sample_data = {key: value.type(torch.float32) if value.dtype == torch.float64 else value for key, value in sample_data.items() if isinstance(value, torch.Tensor)}\n",
    "\n",
    "        #args.sample_id = sample_data[\"idx\"].item() # If it crashes, uncoment the line in the dataset class and in the collate function\n",
    "        output = model_text_cloze.run(**sample_data)\n",
    "        print(output[\"prediction\"])\n",
    "        prediction_text_cloze = tokenizer.decode(output[\"prediction\"], skip_special_tokens=False)\n",
    "        if prediction_text_cloze == \"\":\n",
    "            prediction_text_cloze = 0\n",
    "        print(f\"Prediction: {prediction_text_cloze}\")\n",
    "        if i == 10:\n",
    "            break"
   ]
  },
  {
   "cell_type": "markdown",
   "metadata": {},
   "source": [
    "#### Looking to a random example"
   ]
  },
  {
   "cell_type": "code",
   "execution_count": 26,
   "metadata": {},
   "outputs": [
    {
     "name": "stdout",
     "output_type": "stream",
     "text": [
      "Prediction: 0\n"
     ]
    }
   ],
   "source": [
    "prediction_text_cloze = tokenizer.decode(output[\"prediction\"], skip_special_tokens=False)\n",
    "if prediction_text_cloze == \"\":\n",
    "    prediction_text_cloze = 0\n",
    "print(f\"Prediction: {prediction_text_cloze}\")\n",
    "#~prediction_text_cloze = int(prediction_text_cloze) + 1"
   ]
  },
  {
   "cell_type": "code",
   "execution_count": 27,
   "metadata": {},
   "outputs": [
    {
     "name": "stdout",
     "output_type": "stream",
     "text": [
      "Target: 0\n"
     ]
    }
   ],
   "source": [
    "target = tokenizer.decode(sample_data[\"target\"], skip_special_tokens=True)\n",
    "if target == \"\":\n",
    "    target = 0\n",
    "print(f\"Target: {target}\")\n",
    "target = int(target) + 1"
   ]
  },
  {
   "cell_type": "code",
   "execution_count": 28,
   "metadata": {},
   "outputs": [
    {
     "name": "stdout",
     "output_type": "stream",
     "text": [
      "dict_keys(['boxes', 'vis_feats', 'input_ids', 'input_length', 'label', 'target', 'target_ids', 'target_length', 'idx'])\n"
     ]
    }
   ],
   "source": [
    "print(sample_data.keys())"
   ]
  },
  {
   "cell_type": "code",
   "execution_count": 29,
   "metadata": {},
   "outputs": [
    {
     "name": "stdout",
     "output_type": "stream",
     "text": [
      "Book id: 3452\n",
      "Page id: 45\n"
     ]
    }
   ],
   "source": [
    "sample = df.iloc[sample_data[\"idx\"].item()]\n",
    "book_id = sample[\"book_id\"]\n",
    "page_id = sample[\"page_id\"]\n",
    "target_text = sample[f\"answer_candidate_{sample['correct_answer']}_text\"]\n",
    "print(f\"Book id: {book_id}\")\n",
    "print(f\"Page id: {page_id}\")"
   ]
  },
  {
   "cell_type": "code",
   "execution_count": 30,
   "metadata": {},
   "outputs": [],
   "source": [
    "CORRECT_COLOR = (0, 1, 0)\n",
    "INCORRECT_COLOR = (1, 0, 0)"
   ]
  },
  {
   "cell_type": "code",
   "execution_count": null,
   "metadata": {},
   "outputs": [],
   "source": [
    "# Plot sample\n",
    "fig = plt.figure(figsize=(16, 8))\n",
    "\n",
    "# setting values to rows and column variables\n",
    "rows = 2\n",
    "columns = 4\n",
    "\n",
    "# reading images\n",
    "Image1 = cv2.imread(\n",
    "    f'{args.dataset_dir}/panels/{book_id}/{page_id}_{sample[\"context_panel_0_id\"]}.jpg')\n",
    "Image1 = cv2.cvtColor(Image1, cv2.COLOR_BGR2RGB)\n",
    "Image2 = cv2.imread(\n",
    "    f'{args.dataset_dir}/panels/{book_id}/{page_id}_{sample[\"context_panel_1_id\"]}.jpg')\n",
    "Image2 = cv2.cvtColor(Image2, cv2.COLOR_BGR2RGB)\n",
    "Image3 = cv2.imread(\n",
    "    f'{args.dataset_dir}/panels/{book_id}/{page_id}_{sample[\"context_panel_2_id\"]}.jpg')\n",
    "Image3 = cv2.cvtColor(Image3, cv2.COLOR_BGR2RGB)\n",
    "Image4 = cv2.imread(\n",
    "    f'{args.dataset_dir}/panels/{book_id}/{page_id}_{sample[\"answer_panel_id\"]}.jpg')\n",
    "Image4 = cv2.cvtColor(Image4, cv2.COLOR_BGR2RGB)\n",
    "\n",
    "# Adds a subplot at the 1st position\n",
    "fig.add_subplot(rows, columns, 1)\n",
    "\n",
    "# showing image\n",
    "plt.imshow(Image1)\n",
    "plt.axis('off')\n",
    "plt.title(\"Context panel 1\")\n",
    "\n",
    "# Adds a subplot at the 2nd position\n",
    "fig.add_subplot(rows, columns, 2)\n",
    "\n",
    "# showing image\n",
    "plt.imshow(Image2)\n",
    "plt.axis('off')\n",
    "plt.title(\"Context panel 2\")\n",
    "\n",
    "# Adds a subplot at the 3rd position\n",
    "fig.add_subplot(rows, columns, 3)\n",
    "\n",
    "# showing image\n",
    "plt.imshow(Image3)\n",
    "plt.axis('off')\n",
    "plt.title(\"Context panel 3\")\n",
    "\n",
    "# Adds a subplot at the 4th position\n",
    "fig.add_subplot(rows, columns, 4)\n",
    "\n",
    "# showing image\n",
    "plt.imshow(Image4)\n",
    "plt.axis('off')\n",
    "plt.title(\"Answer panel\")\n",
    "\n",
    "# Adding a subplot at the 5th to 7th position\n",
    "for i in range(1, 4):\n",
    "    fig.add_subplot(rows, columns, i+4)\n",
    "\n",
    "    # showing text\n",
    "    color = CORRECT_COLOR if i - \\\n",
    "        1 == sample[\"correct_answer\"] else INCORRECT_COLOR\n",
    "    bb = dict(facecolor='white', alpha=1.) if i-1 == prediction_text_cloze else None\n",
    "    content = sample[f\"answer_candidate_{i-1}_text\"]\n",
    "    plt.title(f\"Candidate {i}\")\n",
    "    txt = plt.text(0.5, 0.5, content, fontsize=14, wrap=True,\n",
    "                    ha=\"center\", va=\"top\", color=color, bbox=bb)\n",
    "    txt._get_wrap_line_width = lambda: 300.\n",
    "    plt.axis('off')\n",
    "\n",
    "# save the figure with the name of the sample and difficulty and metrics rounded to 2 decimal places\n",
    "os.makedirs(args.output_dir, exist_ok=True)\n",
    "plt.savefig(f'{args.output_dir}/{args.dataset_config.split(\"_\")[-1]}_{args.sample_id}.png')"
   ]
  },
  {
   "cell_type": "markdown",
   "metadata": {},
   "source": [
    "### Iterating over the test set \n",
    "Generating an image of the prediction for each 25 examples"
   ]
  },
  {
   "cell_type": "code",
   "execution_count": 32,
   "metadata": {},
   "outputs": [],
   "source": [
    "# Output dir where to save all the generated images\n",
    "args.output_dir = \"plots_hard_vlt5_textract_blip2/\""
   ]
  },
  {
   "cell_type": "code",
   "execution_count": 33,
   "metadata": {},
   "outputs": [
    {
     "name": "stderr",
     "output_type": "stream",
     "text": [
      "  2%|▏         | 201/11909 [00:04<03:42, 52.71it/s]"
     ]
    },
    {
     "name": "stderr",
     "output_type": "stream",
     "text": [
      "100%|██████████| 11909/11909 [04:26<00:00, 44.75it/s]\n"
     ]
    }
   ],
   "source": [
    "from tqdm import tqdm\n",
    "CORRECT_COLOR = (0, 1, 0)\n",
    "INCORRECT_COLOR = (1, 0, 0)\n",
    "\n",
    "model_text_cloze.eval()\n",
    "model_text_cloze.to(device)\n",
    "for sample_data in tqdm(dataloader):\n",
    "    args.sample_id = sample_data[\"idx\"].item()\n",
    "    # Make the plot every 25 samples\n",
    "    if args.sample_id % 25 == 0:\n",
    "        sample_data = {key: value.type(torch.float32) if value.dtype == torch.float64 else value for key, value in sample_data.items() if isinstance(value, torch.Tensor)}\n",
    "        output = model_text_cloze.run(**sample_data)\n",
    "        \n",
    "        prediction_text_cloze = tokenizer.decode(output[\"prediction\"], skip_special_tokens=False)\n",
    "        if prediction_text_cloze == \"\":\n",
    "            prediction_text_cloze = 0\n",
    "        prediction_text_cloze = int(prediction_text_cloze)\n",
    "\n",
    "\n",
    "        sample = df.iloc[args.sample_id]\n",
    "        book_id = sample[\"book_id\"]\n",
    "        page_id = sample[\"page_id\"]\n",
    "        target_text = sample[f\"answer_candidate_{sample['correct_answer']}_text\"]\n",
    "\n",
    "        # Plot sample\n",
    "        fig = plt.figure(figsize=(16, 8))\n",
    "\n",
    "        # setting values to rows and column variables\n",
    "        rows = 2\n",
    "        columns = 4\n",
    "\n",
    "        # reading images\n",
    "        Image1 = cv2.imread(\n",
    "            f'{args.dataset_dir}/panels/{book_id}/{page_id}_{sample[\"context_panel_0_id\"]}.jpg')\n",
    "        Image1 = cv2.cvtColor(Image1, cv2.COLOR_BGR2RGB)\n",
    "        Image2 = cv2.imread(\n",
    "            f'{args.dataset_dir}/panels/{book_id}/{page_id}_{sample[\"context_panel_1_id\"]}.jpg')\n",
    "        Image2 = cv2.cvtColor(Image2, cv2.COLOR_BGR2RGB)\n",
    "        Image3 = cv2.imread(\n",
    "            f'{args.dataset_dir}/panels/{book_id}/{page_id}_{sample[\"context_panel_2_id\"]}.jpg')\n",
    "        Image3 = cv2.cvtColor(Image3, cv2.COLOR_BGR2RGB)\n",
    "        Image4 = cv2.imread(\n",
    "            f'{args.dataset_dir}/panels/{book_id}/{page_id}_{sample[\"answer_panel_id\"]}.jpg')\n",
    "        Image4 = cv2.cvtColor(Image4, cv2.COLOR_BGR2RGB)\n",
    "\n",
    "        # Adds a subplot at the 1st position\n",
    "        fig.add_subplot(rows, columns, 1)\n",
    "\n",
    "        # showing image\n",
    "        plt.imshow(Image1)\n",
    "        plt.axis('off')\n",
    "        plt.title(\"Context panel 1\")\n",
    "\n",
    "        # Adds a subplot at the 2nd position\n",
    "        fig.add_subplot(rows, columns, 2)\n",
    "\n",
    "        # showing image\n",
    "        plt.imshow(Image2)\n",
    "        plt.axis('off')\n",
    "        plt.title(\"Context panel 2\")\n",
    "\n",
    "        # Adds a subplot at the 3rd position\n",
    "        fig.add_subplot(rows, columns, 3)\n",
    "\n",
    "        # showing image\n",
    "        plt.imshow(Image3)\n",
    "        plt.axis('off')\n",
    "        plt.title(\"Context panel 3\")\n",
    "\n",
    "        # Adds a subplot at the 4th position\n",
    "        fig.add_subplot(rows, columns, 4)\n",
    "\n",
    "        # showing image\n",
    "        plt.imshow(Image4)\n",
    "        plt.axis('off')\n",
    "        plt.title(\"Answer panel\")\n",
    "\n",
    "        # Adding a subplot at the 5th to 7th position\n",
    "        for i in range(3):\n",
    "            fig.add_subplot(rows, columns, i+5)\n",
    "\n",
    "            # showing text\n",
    "            color = CORRECT_COLOR if i == sample[\"correct_answer\"] else INCORRECT_COLOR\n",
    "            bb = dict(facecolor='white', alpha=1.) if i == prediction_text_cloze else None\n",
    "            content = sample[f\"answer_candidate_{i}_text\"]\n",
    "            plt.title(f\"Candidate {i+1}\")\n",
    "            txt = plt.text(0.5, 0.5, content, fontsize=14, wrap=True,\n",
    "                            ha=\"center\", va=\"top\", color=color, bbox=bb)\n",
    "            txt._get_wrap_line_width = lambda: 300.\n",
    "            plt.axis('off')\n",
    "\n",
    "        # save the figure with the name of the sample and difficulty and metrics rounded to 2 decimal places\n",
    "        os.makedirs(args.output_dir, exist_ok=True)\n",
    "        if prediction_text_cloze != sample[\"correct_answer\"]:\n",
    "            plt.savefig(f'{args.output_dir}/{args.dataset_config.split(\"_\")[-1]}_{args.sample_id}_WRONG.png')\n",
    "        else:\n",
    "            plt.savefig(f'{args.output_dir}/{args.dataset_config.split(\"_\")[-1]}_{args.sample_id}.png')\n",
    "        # plt.show()\n",
    "        plt.close(fig)\n"
   ]
  },
  {
   "cell_type": "markdown",
   "metadata": {},
   "source": [
    "### Only showing dataset examples"
   ]
  },
  {
   "cell_type": "code",
   "execution_count": null,
   "metadata": {},
   "outputs": [],
   "source": [
    "CORRECT_COLOR = (0, 1, 0)\n",
    "INCORRECT_COLOR = (1, 0, 0)\n",
    "\n",
    "import random\n",
    "for i in range(0, 10, 1):\n",
    "    args.sample_id = random.randint(0, len(dataset))\n",
    "    sample = df.iloc[args.sample_id]\n",
    "    book_id = sample[\"book_id\"]\n",
    "    page_id = sample[\"page_id\"]\n",
    "    target_text = sample[f\"answer_candidate_{sample['correct_answer']}_text\"]\n",
    "\n",
    "    # Plot sample\n",
    "    fig = plt.figure(figsize=(16, 8))\n",
    "\n",
    "    # setting values to rows and column variables\n",
    "    rows = 2\n",
    "    columns = 4\n",
    "\n",
    "    # reading images\n",
    "    Image1 = cv2.imread(\n",
    "        f'{args.dataset_dir}/panels/{book_id}/{page_id}_{sample[\"context_panel_0\"]}.jpg')\n",
    "    Image1 = cv2.cvtColor(Image1, cv2.COLOR_BGR2RGB)\n",
    "    Image2 = cv2.imread(\n",
    "        f'{args.dataset_dir}/panels/{book_id}/{page_id}_{sample[\"context_panel_1\"]}.jpg')\n",
    "    Image2 = cv2.cvtColor(Image2, cv2.COLOR_BGR2RGB)\n",
    "    Image3 = cv2.imread(\n",
    "        f'{args.dataset_dir}/panels/{book_id}/{page_id}_{sample[\"context_panel_2\"]}.jpg')\n",
    "    Image3 = cv2.cvtColor(Image3, cv2.COLOR_BGR2RGB)\n",
    "    Image4 = cv2.imread(\n",
    "        f'{args.dataset_dir}/panels/{book_id}/{page_id}_{sample[\"answer_panel\"]}.jpg')\n",
    "    Image4 = cv2.cvtColor(Image4, cv2.COLOR_BGR2RGB)\n",
    "\n",
    "    # Adds a subplot at the 1st position\n",
    "    fig.add_subplot(rows, columns, 1)\n",
    "\n",
    "    # showing image\n",
    "    plt.imshow(Image1)\n",
    "    plt.axis('off')\n",
    "    plt.title(\"Context panel 1\")\n",
    "\n",
    "    # Adds a subplot at the 2nd position\n",
    "    fig.add_subplot(rows, columns, 2)\n",
    "\n",
    "    # showing image\n",
    "    plt.imshow(Image2)\n",
    "    plt.axis('off')\n",
    "    plt.title(\"Context panel 2\")\n",
    "\n",
    "    # Adds a subplot at the 3rd position\n",
    "    fig.add_subplot(rows, columns, 3)\n",
    "\n",
    "    # showing image\n",
    "    plt.imshow(Image3)\n",
    "    plt.axis('off')\n",
    "    plt.title(\"Context panel 3\")\n",
    "\n",
    "    # Adds a subplot at the 4th position\n",
    "    fig.add_subplot(rows, columns, 4)\n",
    "\n",
    "    # showing image\n",
    "    plt.imshow(Image4)\n",
    "    plt.axis('off')\n",
    "    plt.title(\"Answer panel\")\n",
    "\n",
    "    # Adding a subplot at the 5th to 7th position\n",
    "    for i in range(3):\n",
    "        fig.add_subplot(rows, columns, i+5)\n",
    "\n",
    "        # showing text\n",
    "        color = CORRECT_COLOR if i == sample[\"correct_answer\"] else INCORRECT_COLOR\n",
    "        content = sample[f\"answer_candidate_{i}_text\"]\n",
    "        plt.title(f\"Candidate {i+1}\")\n",
    "        txt = plt.text(0.5, 0.5, content, fontsize=14, wrap=True,\n",
    "                        ha=\"center\", va=\"top\", color=color)\n",
    "        txt._get_wrap_line_width = lambda: 300.\n",
    "        plt.axis('off')\n",
    "\n",
    "    # save the figure with the name of the sample and difficulty and metrics rounded to 2 decimal places\n",
    "    os.makedirs(args.output_dir, exist_ok=True)\n",
    "    plt.savefig(f'{args.output_dir}/{args.dataset_config.split(\"_\")[-1]}_{args.sample_id}.png')\n",
    "    # plt.show()\n",
    "    plt.close(fig)\n"
   ]
  }
 ],
 "metadata": {
  "kernelspec": {
   "display_name": "comicsgen",
   "language": "python",
   "name": "python3"
  },
  "language_info": {
   "codemirror_mode": {
    "name": "ipython",
    "version": 3
   },
   "file_extension": ".py",
   "mimetype": "text/x-python",
   "name": "python",
   "nbconvert_exporter": "python",
   "pygments_lexer": "ipython3",
   "version": "3.9.17"
  },
  "orig_nbformat": 4
 },
 "nbformat": 4,
 "nbformat_minor": 2
}
